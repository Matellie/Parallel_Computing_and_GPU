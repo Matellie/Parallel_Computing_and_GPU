{
 "cells": [
  {
   "cell_type": "markdown",
   "metadata": {},
   "source": [
    "# Matrix multiplication"
   ]
  },
  {
   "cell_type": "markdown",
   "metadata": {},
   "source": [
    "## Set up"
   ]
  },
  {
   "cell_type": "code",
   "execution_count": 1,
   "metadata": {},
   "outputs": [],
   "source": [
    "from typing import List, Callable\n",
    "import matplotlib.pyplot as plt\n",
    "from time import time_ns\n",
    "from tqdm import tqdm\n",
    "import pandas as pd\n",
    "import random\n",
    "\n",
    "import numpy as np\n",
    "import numba"
   ]
  },
  {
   "cell_type": "code",
   "execution_count": 2,
   "metadata": {},
   "outputs": [],
   "source": [
    "SEED = 42\n",
    "random.seed(SEED)"
   ]
  },
  {
   "cell_type": "code",
   "execution_count": 3,
   "metadata": {},
   "outputs": [],
   "source": [
    "PY_SIZES = [10, 20, 50, 70, 100, 200, 300, 400]\n",
    "NP_SIZES = [10, 50, 100, 500, 750, 1000, 2500, 5000, 7500]\n",
    "NUMBA_SIZES = [10, 50, 100, 500, 750, 1000, 1500, 2000]"
   ]
  },
  {
   "cell_type": "code",
   "execution_count": 4,
   "metadata": {},
   "outputs": [],
   "source": [
    "def create_python_matrix(n):\n",
    "    A_py = [[random.random() for _ in range(n)] for _ in range(n)]\n",
    "    B_py = [[random.random() for _ in range(n)] for _ in range(n)]\n",
    "    C_py = [[0.0 for _ in range(n)] for _ in range(n)]\n",
    "\n",
    "    return A_py, B_py, C_py\n",
    "\n",
    "def create_numpy_matrix(n):\n",
    "    A_np = np.random.random_sample((n, n))\n",
    "    B_np = np.random.random_sample((n, n))\n",
    "    C_np = np.empty_like(A_np)\n",
    "\n",
    "    return A_np, B_np, C_np"
   ]
  },
  {
   "cell_type": "code",
   "execution_count": 5,
   "metadata": {},
   "outputs": [],
   "source": [
    "def benchmark(\n",
    "    mult_func: Callable[[int], int],\n",
    "    matrix_gen_func: Callable[[int], int],\n",
    "    sizes: List[int],\n",
    "    nb_repeat: int = 1\n",
    ") -> np.ndarray:\n",
    "    times = np.zeros((len(sizes), nb_repeat))\n",
    "\n",
    "    for i, size in enumerate(tqdm(sizes)):\n",
    "        for j in range(nb_repeat):\n",
    "            A, B, C = matrix_gen_func(size)\n",
    "            \n",
    "            t0 = time_ns()\n",
    "            mult_func(A, B, C)\n",
    "            times[i, j] = time_ns() - t0\n",
    "\n",
    "    return times"
   ]
  },
  {
   "cell_type": "code",
   "execution_count": 6,
   "metadata": {},
   "outputs": [],
   "source": [
    "def compute_metrics(times: np.ndarray) -> np.ndarray:\n",
    "    # Function to compute the mean, standard deviation and median of the times\n",
    "    metrics = np.zeros((times.shape[0], 3))\n",
    "\n",
    "    for i in range(times.shape[0]):\n",
    "        metrics[i, 0] = np.mean(times[i])\n",
    "        metrics[i, 1] = np.std(times[i])\n",
    "        metrics[i, 2] = np.median(times[i])\n",
    "\n",
    "    return metrics"
   ]
  },
  {
   "cell_type": "code",
   "execution_count": 7,
   "metadata": {},
   "outputs": [],
   "source": [
    "# Datastructure to store the functions, their names, the steps and the results\n",
    "matrix_mul_df = pd.DataFrame(columns=['name', 'matmul_func', 'matcrea_func', 'sizes', 'times', 'metrics'])"
   ]
  },
  {
   "cell_type": "markdown",
   "metadata": {},
   "source": [
    "## Native Python matrix multiplication"
   ]
  },
  {
   "cell_type": "code",
   "execution_count": 8,
   "metadata": {},
   "outputs": [],
   "source": [
    "def multi_matrix_naive(A, B, C):\n",
    "    for k in range(len(A[0])):\n",
    "        for i in range(len(A)):\n",
    "            t = A[i][k]\n",
    "            for j in range(len(B[0])):\n",
    "                C[i][j] += t * B[k][j]\n",
    "    return C\n"
   ]
  },
  {
   "cell_type": "code",
   "execution_count": 9,
   "metadata": {},
   "outputs": [],
   "source": [
    "matrix_mul_df.loc[0] = {\n",
    "    'name': 'Naive python',\n",
    "    'matmul_func': multi_matrix_naive,\n",
    "    'matcrea_func': create_python_matrix,\n",
    "    'sizes': PY_SIZES,\n",
    "    'times': None,\n",
    "    'metrics': None\n",
    "}"
   ]
  },
  {
   "cell_type": "markdown",
   "metadata": {},
   "source": [
    "## Numpy matrix dot-product"
   ]
  },
  {
   "cell_type": "code",
   "execution_count": 10,
   "metadata": {},
   "outputs": [],
   "source": [
    "def multi_matrix_dot(A, B, C):\n",
    "    C = np.dot(A, B)\n",
    "    return C"
   ]
  },
  {
   "cell_type": "code",
   "execution_count": 11,
   "metadata": {},
   "outputs": [],
   "source": [
    "matrix_mul_df.loc[1] = {\n",
    "    'name': 'Numpy dot',\n",
    "    'matmul_func': multi_matrix_dot,\n",
    "    'matcrea_func': create_numpy_matrix,\n",
    "    'sizes': NP_SIZES,\n",
    "    'times': None,\n",
    "    'metrics': None\n",
    "}"
   ]
  },
  {
   "cell_type": "markdown",
   "metadata": {},
   "source": [
    "## Numpy matrix multiplication"
   ]
  },
  {
   "cell_type": "code",
   "execution_count": 12,
   "metadata": {},
   "outputs": [],
   "source": [
    "def multi_matrix_np(A, B, C):\n",
    "    C = np.matmul(A, B)\n",
    "    return C"
   ]
  },
  {
   "cell_type": "code",
   "execution_count": 13,
   "metadata": {},
   "outputs": [],
   "source": [
    "matrix_mul_df.loc[2] = {\n",
    "    'name': 'Numpy matmul',\n",
    "    'matmul_func': multi_matrix_np,\n",
    "    'matcrea_func': create_numpy_matrix,\n",
    "    'sizes': NP_SIZES,\n",
    "    'times': None,\n",
    "    'metrics': None\n",
    "}"
   ]
  },
  {
   "cell_type": "markdown",
   "metadata": {},
   "source": [
    "## Code to compare the different implementations"
   ]
  },
  {
   "cell_type": "code",
   "execution_count": 14,
   "metadata": {},
   "outputs": [
    {
     "name": "stdout",
     "output_type": "stream",
     "text": [
      "Benchmarking Naive python method\n"
     ]
    },
    {
     "name": "stderr",
     "output_type": "stream",
     "text": [
      "100%|██████████| 8/8 [00:08<00:00,  1.04s/it]\n"
     ]
    },
    {
     "name": "stdout",
     "output_type": "stream",
     "text": [
      "Benchmarking Numpy dot method\n"
     ]
    },
    {
     "name": "stderr",
     "output_type": "stream",
     "text": [
      "100%|██████████| 9/9 [00:06<00:00,  1.49it/s]\n"
     ]
    },
    {
     "name": "stdout",
     "output_type": "stream",
     "text": [
      "Benchmarking Numpy matmul method\n"
     ]
    },
    {
     "name": "stderr",
     "output_type": "stream",
     "text": [
      "100%|██████████| 9/9 [00:05<00:00,  1.55it/s]\n"
     ]
    }
   ],
   "source": [
    "# Benchmark and plot code\n",
    "for i, row in matrix_mul_df.loc[:2].iterrows():\n",
    "    print(f\"Benchmarking {row['name']} method\")\n",
    "    row['times'] = benchmark(row['matmul_func'], row['matcrea_func'], row['sizes'], nb_repeat=1)\n",
    "    row['metrics'] = compute_metrics(row['times'])"
   ]
  },
  {
   "cell_type": "code",
   "execution_count": 15,
   "metadata": {},
   "outputs": [
    {
     "data": {
      "text/plain": [
       "<matplotlib.legend.Legend at 0x146bd9afbc0>"
      ]
     },
     "execution_count": 15,
     "metadata": {},
     "output_type": "execute_result"
    },
    {
     "data": {
      "image/png": "[encoded data removed]",
      "text/plain": [
       "<Figure size 640x480 with 1 Axes>"
      ]
     },
     "metadata": {},
     "output_type": "display_data"
    }
   ],
   "source": [
    "for i, row in matrix_mul_df.loc[:2].iterrows():\n",
    "    plt.plot(row['sizes'], row['times'], label=row['name'])\n",
    "plt.legend()"
   ]
  },
  {
   "cell_type": "markdown",
   "metadata": {},
   "source": [
    "## Numba implementation"
   ]
  },
  {
   "cell_type": "code",
   "execution_count": 16,
   "metadata": {},
   "outputs": [],
   "source": [
    "@numba.jit(nopython = True)\n",
    "def multi_matrix_numba(A: List[List[float]], B: List[List[float]], C: List[List[float]]):\n",
    "    for k in range(len(A[0])):\n",
    "        for i in range(len(A)):\n",
    "            t = A[i][k]\n",
    "            for j in range(len(B[0])):\n",
    "                C[i][j] += t * B[k][j]\n",
    "    return C"
   ]
  },
  {
   "cell_type": "code",
   "execution_count": 17,
   "metadata": {},
   "outputs": [],
   "source": [
    "matrix_mul_df.loc[3] = {\n",
    "    'name': 'Numba python',\n",
    "    'matmul_func': multi_matrix_numba,\n",
    "    'matcrea_func': create_numpy_matrix,\n",
    "    'sizes': NUMBA_SIZES,\n",
    "    'times': None,\n",
    "    'metrics': None\n",
    "}"
   ]
  },
  {
   "cell_type": "markdown",
   "metadata": {},
   "source": [
    "Compare your implementations with/without Numba"
   ]
  },
  {
   "cell_type": "code",
   "execution_count": 18,
   "metadata": {},
   "outputs": [
    {
     "name": "stdout",
     "output_type": "stream",
     "text": [
      "Benchmarking Numba python method\n"
     ]
    },
    {
     "name": "stderr",
     "output_type": "stream",
     "text": [
      "100%|██████████| 8/8 [00:06<00:00,  1.18it/s]\n"
     ]
    }
   ],
   "source": [
    "# Benchmark and plot code\n",
    "row = matrix_mul_df.loc[3]\n",
    "print(f\"Benchmarking {row['name']} method\")\n",
    "row['times'] = benchmark(row['matmul_func'], row['matcrea_func'], row['sizes'], nb_repeat=1)\n",
    "row['metrics'] = compute_metrics(row['times'])"
   ]
  },
  {
   "cell_type": "code",
   "execution_count": 19,
   "metadata": {},
   "outputs": [
    {
     "data": {
      "text/plain": [
       "<matplotlib.legend.Legend at 0x146bec5ab10>"
      ]
     },
     "execution_count": 19,
     "metadata": {},
     "output_type": "execute_result"
    },
    {
     "data": {
      "image/png": "[encoded data removed]",
      "text/plain": [
       "<Figure size 640x480 with 1 Axes>"
      ]
     },
     "metadata": {},
     "output_type": "display_data"
    }
   ],
   "source": [
    "for i, row in matrix_mul_df.loc[:3].iterrows():\n",
    "    plt.plot(row['sizes'], row['times'], label=row['name'])\n",
    "plt.legend()"
   ]
  },
  {
   "cell_type": "markdown",
   "metadata": {},
   "source": [
    "## Implementation to test with float (32) and double (64) floating point numbers"
   ]
  },
  {
   "cell_type": "code",
   "execution_count": 20,
   "metadata": {},
   "outputs": [],
   "source": [
    "def create_np64_matrix(n):\n",
    "    A_np = np.random.random_sample((n, n)).astype(np.float64)\n",
    "    B_np = np.random.random_sample((n, n)).astype(np.float64)\n",
    "    C_np = np.empty_like(A_np).astype(np.float64)\n",
    "\n",
    "    return A_np, B_np, C_np\n",
    "\n",
    "def create_np32_matrix(n):\n",
    "    A_np = np.random.random_sample((n, n)).astype(np.float32)\n",
    "    B_np = np.random.random_sample((n, n)).astype(np.float32)\n",
    "    C_np = np.empty_like(A_np).astype(np.float32)\n",
    "\n",
    "    return A_np, B_np, C_np\n",
    "\n",
    "##### Bonus: Numpy with half (16) floating point numnbers #####\n",
    "def create_np16_matrix(n):\n",
    "    A_np = np.random.random_sample((n, n)).astype(np.float16)\n",
    "    B_np = np.random.random_sample((n, n)).astype(np.float16)\n",
    "    C_np = np.empty_like(A_np).astype(np.float16)\n",
    "\n",
    "    return A_np, B_np, C_np"
   ]
  },
  {
   "cell_type": "code",
   "execution_count": 21,
   "metadata": {},
   "outputs": [],
   "source": [
    "matrix_mul_df.loc[4] = {\n",
    "    'name': 'Numpy float64',\n",
    "    'matmul_func': multi_matrix_np,\n",
    "    'matcrea_func': create_np64_matrix,\n",
    "    'sizes': NP_SIZES,\n",
    "    'times': None,\n",
    "    'metrics': None\n",
    "}\n",
    "\n",
    "matrix_mul_df.loc[5] = {\n",
    "    'name': 'Numpy float32',\n",
    "    'matmul_func': multi_matrix_np,\n",
    "    'matcrea_func': create_np32_matrix,\n",
    "    'sizes': NP_SIZES,\n",
    "    'times': None,\n",
    "    'metrics': None\n",
    "}\n",
    "\n",
    "matrix_mul_df.loc[6] = {\n",
    "    'name': 'Numpy float16',\n",
    "    'matmul_func': multi_matrix_np,\n",
    "    'matcrea_func': create_np16_matrix,\n",
    "    'sizes': [10, 50, 100, 500, 750, 850],\n",
    "    'times': None,\n",
    "    'metrics': None\n",
    "}"
   ]
  },
  {
   "cell_type": "markdown",
   "metadata": {},
   "source": [
    "### Float32 - Float64 comparison"
   ]
  },
  {
   "cell_type": "code",
   "execution_count": 22,
   "metadata": {},
   "outputs": [
    {
     "name": "stdout",
     "output_type": "stream",
     "text": [
      "Benchmarking Numpy float64 method\n"
     ]
    },
    {
     "name": "stderr",
     "output_type": "stream",
     "text": [
      "100%|██████████| 9/9 [00:06<00:00,  1.37it/s]\n"
     ]
    },
    {
     "name": "stdout",
     "output_type": "stream",
     "text": [
      "Benchmarking Numpy float32 method\n"
     ]
    },
    {
     "name": "stderr",
     "output_type": "stream",
     "text": [
      "100%|██████████| 9/9 [00:03<00:00,  2.39it/s]\n"
     ]
    },
    {
     "name": "stdout",
     "output_type": "stream",
     "text": [
      "Benchmarking Numpy float16 method\n"
     ]
    },
    {
     "name": "stderr",
     "output_type": "stream",
     "text": [
      "100%|██████████| 6/6 [00:06<00:00,  1.08s/it]\n"
     ]
    }
   ],
   "source": [
    "# Benchmark and plot code\n",
    "for i, row in matrix_mul_df.loc[4:].iterrows():\n",
    "    print(f\"Benchmarking {row['name']} method\")\n",
    "    row['times'] = benchmark(row['matmul_func'], row['matcrea_func'], row['sizes'], nb_repeat=1)\n",
    "    row['metrics'] = compute_metrics(row['times'])"
   ]
  },
  {
   "cell_type": "code",
   "execution_count": 23,
   "metadata": {},
   "outputs": [
    {
     "data": {
      "text/plain": [
       "<matplotlib.legend.Legend at 0x146bff3fb30>"
      ]
     },
     "execution_count": 23,
     "metadata": {},
     "output_type": "execute_result"
    },
    {
     "data": {
      "image/png": "[encoded data removed]",
      "text/plain": [
       "<Figure size 640x480 with 1 Axes>"
      ]
     },
     "metadata": {},
     "output_type": "display_data"
    }
   ],
   "source": [
    "for i, row in matrix_mul_df.loc[4:].iterrows():\n",
    "    plt.plot(row['sizes'], row['times'], label=row['name'])\n",
    "plt.legend()"
   ]
  },
  {
   "cell_type": "markdown",
   "metadata": {},
   "source": [
    "## Bonus: Matrix multiplication with torch tensors"
   ]
  },
  {
   "cell_type": "code",
   "execution_count": 44,
   "metadata": {},
   "outputs": [],
   "source": [
    "import torch\n",
    "\n",
    "def multi_matrix_torch(A: torch.Tensor, B: torch.Tensor, C: torch.Tensor):\n",
    "    C = torch.matmul(A, B)\n",
    "    return C"
   ]
  },
  {
   "cell_type": "code",
   "execution_count": 45,
   "metadata": {},
   "outputs": [],
   "source": [
    "def create_tensor64_matrix(n):\n",
    "    A_torch = torch.rand(n, n).type(torch.float64).to('cuda:0')\n",
    "    B_torch = torch.rand(n, n).type(torch.float64).to('cuda:0')\n",
    "    C_torch = torch.empty_like(A_torch).type(torch.float64).to('cuda:0')\n",
    "\n",
    "    return A_torch, B_torch, C_torch\n",
    "\n",
    "def create_tensor32_matrix(n):\n",
    "    A_torch = torch.rand(n, n).type(torch.float32).to('cuda:0')\n",
    "    B_torch = torch.rand(n, n).type(torch.float32).to('cuda:0')\n",
    "    C_torch = torch.empty_like(A_torch).type(torch.float32).to('cuda:0')\n",
    "\n",
    "    return A_torch, B_torch, C_torch"
   ]
  },
  {
   "cell_type": "code",
   "execution_count": 46,
   "metadata": {},
   "outputs": [],
   "source": [
    "matrix_mul_df.loc[7] = {\n",
    "    'name': 'Torch float64',\n",
    "    'matmul_func': multi_matrix_torch,\n",
    "    'matcrea_func': create_tensor64_matrix,\n",
    "    'sizes': [1000, 2000, 3000, 4000, 6000, 7000, 8000, 9000, 10000],\n",
    "    'times': None,\n",
    "    'metrics': None\n",
    "}\n",
    "\n",
    "matrix_mul_df.loc[8] = {\n",
    "    'name': 'Torch float32',\n",
    "    'matmul_func': multi_matrix_torch,\n",
    "    'matcrea_func': create_tensor32_matrix,\n",
    "    'sizes': [1000, 2000, 4000, 5000, 6000, 7000, 8000, 9000, 10000],\n",
    "    'times': None,\n",
    "    'metrics': None\n",
    "}"
   ]
  },
  {
   "cell_type": "code",
   "execution_count": 47,
   "metadata": {},
   "outputs": [
    {
     "name": "stdout",
     "output_type": "stream",
     "text": [
      "Benchmarking Torch float64 method\n"
     ]
    },
    {
     "name": "stderr",
     "output_type": "stream",
     "text": [
      "100%|██████████| 9/9 [00:23<00:00,  2.63s/it]\n"
     ]
    },
    {
     "name": "stdout",
     "output_type": "stream",
     "text": [
      "Benchmarking Torch float32 method\n"
     ]
    },
    {
     "name": "stderr",
     "output_type": "stream",
     "text": [
      "100%|██████████| 9/9 [00:04<00:00,  2.01it/s]\n"
     ]
    }
   ],
   "source": [
    "# Benchmark and plot code\n",
    "torch.cuda.empty_cache()\n",
    "for i, row in matrix_mul_df.loc[7:].iterrows():\n",
    "    print(f\"Benchmarking {row['name']} method\")\n",
    "    row['times'] = benchmark(row['matmul_func'], row['matcrea_func'], row['sizes'], nb_repeat=1)\n",
    "    torch.cuda.empty_cache()\n",
    "    row['metrics'] = compute_metrics(row['times'])"
   ]
  },
  {
   "cell_type": "code",
   "execution_count": 48,
   "metadata": {},
   "outputs": [
    {
     "data": {
      "text/plain": [
       "<matplotlib.legend.Legend at 0x146bfea1970>"
      ]
     },
     "execution_count": 48,
     "metadata": {},
     "output_type": "execute_result"
    },
    {
     "data": {
      "image/png": "[encoded data removed]",
      "text/plain": [
       "<Figure size 640x480 with 1 Axes>"
      ]
     },
     "metadata": {},
     "output_type": "display_data"
    }
   ],
   "source": [
    "for i, row in matrix_mul_df.loc[7:].iterrows():\n",
    "    plt.plot(row['sizes'], row['times'], label=row['name'])\n",
    "plt.legend()"
   ]
  },
  {
   "cell_type": "markdown",
   "metadata": {},
   "source": [
    "Improve your implementations using Cython"
   ]
  },
  {
   "cell_type": "code",
   "execution_count": null,
   "metadata": {},
   "outputs": [],
   "source": []
  },
  {
   "cell_type": "markdown",
   "metadata": {},
   "source": [
    "Compare your implementation with/without Cython"
   ]
  },
  {
   "cell_type": "code",
   "execution_count": null,
   "metadata": {},
   "outputs": [],
   "source": []
  }
 ],
 "metadata": {
  "kernelspec": {
   "display_name": "ot5",
   "language": "python",
   "name": "python3"
  },
  "language_info": {
   "codemirror_mode": {
    "name": "ipython",
    "version": 3
   },
   "file_extension": ".py",
   "mimetype": "text/x-python",
   "name": "python",
   "nbconvert_exporter": "python",
   "pygments_lexer": "ipython3",
   "version": "3.12.1"
  },
  "orig_nbformat": 4
 },
 "nbformat": 4,
 "nbformat_minor": 2
}
