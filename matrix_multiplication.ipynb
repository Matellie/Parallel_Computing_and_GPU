{
 "cells": [
  {
   "cell_type": "markdown",
   "metadata": {},
   "source": [
    "Implement naive matrix multiplication in native Python"
   ]
  },
  {
   "cell_type": "code",
   "execution_count": 6,
   "metadata": {},
   "outputs": [],
   "source": [
    "def multi_matrix_naive(A, B, C):\n",
    "    for k in range(len(A[0])):\n",
    "        for i in range(len(A)):\n",
    "            t = A[i][k]\n",
    "            for j in range(len(B[0])):\n",
    "                C[i][j] += t * B[k][j]\n",
    "    return C\n"
   ]
  },
  {
   "cell_type": "markdown",
   "metadata": {},
   "source": [
    "Implement a dot-product matrix with Numpy"
   ]
  },
  {
   "cell_type": "code",
   "execution_count": 7,
   "metadata": {},
   "outputs": [],
   "source": [
    "import numpy as np\n",
    "\n",
    "def multi_matrix_dot(A, B, C):\n",
    "    C = np.dot(A, B)\n",
    "    return C"
   ]
  },
  {
   "cell_type": "markdown",
   "metadata": {},
   "source": [
    "Implement a matrix multiplication with Numpy"
   ]
  },
  {
   "cell_type": "code",
   "execution_count": 8,
   "metadata": {},
   "outputs": [],
   "source": [
    "def multi_matrix_np(A, B, C):\n",
    "    C = np.matmul(A, B)\n",
    "    return C"
   ]
  },
  {
   "cell_type": "markdown",
   "metadata": {},
   "source": [
    "Code to test the different implementations"
   ]
  },
  {
   "cell_type": "code",
   "execution_count": 9,
   "metadata": {},
   "outputs": [
    {
     "data": {
      "text/plain": [
       "'\\nn = 30\\n\\n# Matrix in Numpy\\nAn = np.random.random_sample((n, n))\\nBn = np.random.random_sample((n, n))\\nCn = np.empty_like(An)\\n\\n# Matrix in native Python list\\nAp = [[random.random() for _ in range(n)] for _ in range(n)]\\nBp = [[random.random() for _ in range(n)] for _ in range(n)]\\nCp = [[0.0 for _ in range(n)] for _ in range(n)]\\n'"
      ]
     },
     "execution_count": 9,
     "metadata": {},
     "output_type": "execute_result"
    }
   ],
   "source": [
    "import random\n",
    "\n",
    "def create_matrix(n):\n",
    "    An = np.random.random_sample((n, n))\n",
    "    Bn = np.random.random_sample((n, n))\n",
    "    Cn = np.empty_like(An)\n",
    "\n",
    "    Ap = [[random.random() for _ in range(n)] for _ in range(n)]\n",
    "    Bp = [[random.random() for _ in range(n)] for _ in range(n)]\n",
    "    Cp = [[0.0 for _ in range(n)] for _ in range(n)]\n",
    "\n",
    "    return (An, Bn, Cn), (Ap, Bp, Cp)\n",
    "\n",
    "\"\"\"\n",
    "n = 30\n",
    "\n",
    "# Matrix in Numpy\n",
    "An = np.random.random_sample((n, n))\n",
    "Bn = np.random.random_sample((n, n))\n",
    "Cn = np.empty_like(An)\n",
    "\n",
    "# Matrix in native Python list\n",
    "Ap = [[random.random() for _ in range(n)] for _ in range(n)]\n",
    "Bp = [[random.random() for _ in range(n)] for _ in range(n)]\n",
    "Cp = [[0.0 for _ in range(n)] for _ in range(n)]\n",
    "\"\"\""
   ]
  },
  {
   "cell_type": "markdown",
   "metadata": {},
   "source": [
    "Compare the different implementation"
   ]
  },
  {
   "cell_type": "code",
   "execution_count": 20,
   "metadata": {},
   "outputs": [
    {
     "name": "stderr",
     "output_type": "stream",
     "text": [
      "100%|██████████| 2/2 [00:00<00:00, 18.86it/s]"
     ]
    },
    {
     "name": "stdout",
     "output_type": "stream",
     "text": [
      "[       0. 81016900.]\n"
     ]
    },
    {
     "name": "stderr",
     "output_type": "stream",
     "text": [
      "\n"
     ]
    }
   ],
   "source": [
    "from tqdm import tqdm\n",
    "from time import time_ns\n",
    "\n",
    "sizes = [10, 100]\n",
    "times_naive = np.zeros(len(sizes))\n",
    "\n",
    "for i, size in enumerate(tqdm(sizes)):\n",
    "    np_matrices, py_matrices = create_matrix(size)\n",
    "    t0 = time_ns()\n",
    "    multi_matrix_naive(*py_matrices)\n",
    "    times_naive[i] = time_ns() - t0\n",
    "\n",
    "print(times_naive)"
   ]
  },
  {
   "cell_type": "code",
   "execution_count": 21,
   "metadata": {},
   "outputs": [
    {
     "name": "stderr",
     "output_type": "stream",
     "text": [
      "100%|██████████| 2/2 [00:00<00:00,  9.48it/s]"
     ]
    },
    {
     "name": "stdout",
     "output_type": "stream",
     "text": [
      "[       0. 13002100.]\n"
     ]
    },
    {
     "name": "stderr",
     "output_type": "stream",
     "text": [
      "\n"
     ]
    }
   ],
   "source": [
    "sizes = [100, 1000]\n",
    "times_dot = np.zeros(len(sizes))\n",
    "\n",
    "for i, size in enumerate(tqdm(sizes)):\n",
    "    np_matrices, py_matrices = create_matrix(size)\n",
    "    t0 = time_ns()\n",
    "    multi_matrix_dot(*np_matrices)\n",
    "    times_dot[i] = time_ns() - t0\n",
    "\n",
    "print(times_dot)"
   ]
  },
  {
   "cell_type": "code",
   "execution_count": 22,
   "metadata": {},
   "outputs": [
    {
     "name": "stderr",
     "output_type": "stream",
     "text": [
      "100%|██████████| 2/2 [00:00<00:00,  8.06it/s]"
     ]
    },
    {
     "name": "stdout",
     "output_type": "stream",
     "text": [
      "[ 1000400. 13002700.]\n"
     ]
    },
    {
     "name": "stderr",
     "output_type": "stream",
     "text": [
      "\n"
     ]
    }
   ],
   "source": [
    "sizes = [100, 1000]\n",
    "times_np = np.zeros(len(sizes))\n",
    "\n",
    "for i, size in enumerate(tqdm(sizes)):\n",
    "    np_matrices, py_matrices = create_matrix(size)\n",
    "    t0 = time_ns()\n",
    "    multi_matrix_np(*np_matrices)\n",
    "    times_np[i] = time_ns() - t0\n",
    "\n",
    "print(times_np)"
   ]
  },
  {
   "cell_type": "markdown",
   "metadata": {},
   "source": [
    "Improve your implementations using Cython"
   ]
  },
  {
   "cell_type": "code",
   "execution_count": null,
   "metadata": {},
   "outputs": [],
   "source": []
  },
  {
   "cell_type": "markdown",
   "metadata": {},
   "source": [
    "Compare your implementation with/without Cython"
   ]
  },
  {
   "cell_type": "code",
   "execution_count": null,
   "metadata": {},
   "outputs": [],
   "source": []
  },
  {
   "cell_type": "markdown",
   "metadata": {},
   "source": [
    "Improve your implementations using Numba"
   ]
  },
  {
   "cell_type": "code",
   "execution_count": null,
   "metadata": {},
   "outputs": [],
   "source": []
  },
  {
   "cell_type": "markdown",
   "metadata": {},
   "source": [
    "Compare your implementations with/without Numba"
   ]
  },
  {
   "cell_type": "code",
   "execution_count": null,
   "metadata": {},
   "outputs": [],
   "source": []
  },
  {
   "cell_type": "markdown",
   "metadata": {},
   "source": [
    "Modify your implementation to test with float (32) and double (64) floating point number"
   ]
  },
  {
   "cell_type": "code",
   "execution_count": null,
   "metadata": {},
   "outputs": [],
   "source": []
  },
  {
   "cell_type": "markdown",
   "metadata": {},
   "source": [
    "Compare your implementations"
   ]
  },
  {
   "cell_type": "markdown",
   "metadata": {},
   "source": []
  }
 ],
 "metadata": {
  "kernelspec": {
   "display_name": "ot5",
   "language": "python",
   "name": "python3"
  },
  "language_info": {
   "codemirror_mode": {
    "name": "ipython",
    "version": 3
   },
   "file_extension": ".py",
   "mimetype": "text/x-python",
   "name": "python",
   "nbconvert_exporter": "python",
   "pygments_lexer": "ipython3",
   "version": "3.12.1"
  },
  "orig_nbformat": 4
 },
 "nbformat": 4,
 "nbformat_minor": 2
}
