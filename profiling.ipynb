{
 "cells": [
  {
   "cell_type": "markdown",
   "metadata": {},
   "source": [
    "# A simple bottleneck"
   ]
  },
  {
   "cell_type": "code",
   "execution_count": 1,
   "metadata": {},
   "outputs": [],
   "source": [
    "import random\n",
    "\n",
    "from functools import wraps\n",
    "from cProfile import Profile\n",
    "from tempfile import NamedTemporaryFile\n",
    "import pstats\n",
    "import subprocess"
   ]
  },
  {
   "cell_type": "markdown",
   "metadata": {},
   "source": [
    "Very simple code that :\n",
    "- make_random_edges : generate a random graph given a number of edge and nodes\n",
    "- find_unique_edges : filter the list of edges to only keep an instance of each (i.e. remove duplicate edges)\n",
    "- contains : verify if an edge is part of a list"
   ]
  },
  {
   "cell_type": "code",
   "execution_count": 2,
   "metadata": {},
   "outputs": [],
   "source": [
    "def make_random_edges(n_edges=100, n_nodes=10):\n",
    "    random.seed(42)\n",
    "    edges = [[random.randint(0, n_nodes), random.randint(0, n_nodes)] for _ in range(n_edges)]\n",
    "    return edges\n",
    "\n",
    "def find_unique_edges(edges):\n",
    "    edges = list(edges)\n",
    "    unique_edges = []\n",
    "    while edges:\n",
    "        edge = edges.pop()\n",
    "        if not contains(edges, edge):\n",
    "            unique_edges.append(edge)\n",
    "    return unique_edges\n",
    "\n",
    "def contains(edges, edge):\n",
    "    for e in edges:\n",
    "        if sorted(e) == sorted(edge):\n",
    "            return True\n",
    "    return False\n"
   ]
  },
  {
   "cell_type": "markdown",
   "metadata": {},
   "source": [
    "Some profiling functions to ease the process"
   ]
  },
  {
   "cell_type": "code",
   "execution_count": 3,
   "metadata": {},
   "outputs": [],
   "source": [
    "_time_profiles = {}\n",
    "\n",
    "def profile_time(func):\n",
    "    @wraps(func)\n",
    "    def wrapper(*args, **kwargs):\n",
    "        profile = Profile()\n",
    "        ret = profile.runcall(func, *args, **kwargs)\n",
    "        _time_profiles[(wrapper, ) + args] = profile\n",
    "        \n",
    "        return ret \n",
    "    return wrapper\n",
    "\n",
    "def profile_stats(profile):\n",
    "    temp_stats = NamedTemporaryFile(delete_on_close=False)\n",
    "    profile.dump_stats(temp_stats.name)\n",
    "    return pstats.Stats(temp_stats.name)"
   ]
  },
  {
   "cell_type": "markdown",
   "metadata": {},
   "source": [
    "## Simple profiling with text outputs  "
   ]
  },
  {
   "cell_type": "code",
   "execution_count": 4,
   "metadata": {},
   "outputs": [
    {
     "name": "stdout",
     "output_type": "stream",
     "text": [
      "Wed Oct 23 22:21:47 2024    C:\\Users\\UTILIS~1\\AppData\\Local\\Temp\\tmp12erk6zz\n",
      "\n",
      "         3943002 function calls (3942995 primitive calls) in 2.783 seconds\n",
      "\n",
      "   Ordered by: internal time\n",
      "\n",
      "   ncalls  tottime  percall  cumtime  percall filename:lineno(function)\n",
      "  3903622    1.720    0.000    1.720    0.000 {built-in method builtins.sorted}\n",
      "     2000    1.030    0.001    2.749    0.001 1201873293.py:15(contains)\n",
      "     4000    0.008    0.000    0.020    0.000 random.py:291(randrange)\n",
      "     4000    0.007    0.000    0.010    0.000 random.py:242(_randbelow_with_getrandbits)\n",
      "     4000    0.003    0.000    0.023    0.000 random.py:332(randint)\n",
      "        1    0.003    0.003    0.026    0.026 1201873293.py:1(make_random_edges)\n",
      "    12000    0.003    0.000    0.003    0.000 {built-in method _operator.index}\n",
      "        1    0.002    0.002    1.338    1.338 1201873293.py:6(find_unique_edges)\n",
      "     4000    0.002    0.000    0.002    0.000 {method 'bit_length' of 'int' objects}\n",
      "     5051    0.001    0.000    0.001    0.000 {method 'getrandbits' of '_random.Random' objects}\n",
      "     1921    0.001    0.000    0.001    0.000 {method 'append' of 'list' objects}\n",
      "     2000    0.001    0.000    0.001    0.000 {method 'pop' of 'list' objects}\n",
      "        3    0.000    0.000    0.001    0.000 {built-in method select.select}\n",
      "        4    0.000    0.000    0.000    0.000 attrsettr.py:65(_get_attr_opt)\n",
      "        1    0.000    0.000    0.000    0.000 {method 'disable' of '_lsprof.Profiler' objects}\n",
      "        6    0.000    0.000    0.000    0.000 ipkernel.py:775(_clean_thread_parent_frames)\n",
      "        8    0.000    0.000    0.000    0.000 base_events.py:731(time)\n",
      "        4    0.000    0.000    1.370    0.343 base_events.py:1894(_run_once)\n",
      "        1    0.000    0.000    0.000    0.000 iostream.py:127(_event_pipe_gc)\n",
      "        3    0.000    0.000    0.031    0.010 selectors.py:319(select)\n",
      "        3    0.000    0.000    0.000    0.000 threading.py:1534(enumerate)\n",
      "        4    0.000    0.000    0.000    0.000 socket.py:239(close)\n",
      "        3    0.000    0.000    0.031    0.010 selectors.py:313(_select)\n",
      "        4    0.000    0.000    0.000    0.000 attrsettr.py:42(__getattr__)\n",
      "        7    0.000    0.000    0.000    0.000 threading.py:1220(is_alive)\n",
      "        2    0.000    0.000    0.000    0.000 {method '__exit__' of 'sqlite3.Connection' objects}\n",
      "        1    0.000    0.000    0.000    0.000 random.py:135(seed)\n",
      "        1    0.000    0.000    0.000    0.000 iostream.py:118(_run_event_pipe_gc)\n",
      "       35    0.000    0.000    0.000    0.000 {built-in method builtins.isinstance}\n",
      "        4    0.000    0.000    0.001    0.000 events.py:82(_run)\n",
      "        2    0.000    0.000    0.000    0.000 traitlets.py:718(_validate)\n",
      "        4    0.000    0.000    0.001    0.000 {method 'run' of '_contextvars.Context' objects}\n",
      "        2    0.000    0.000    0.000    0.000 tasks.py:653(sleep)\n",
      "       18    0.000    0.000    0.000    0.000 threading.py:1196(ident)\n",
      "        1    0.000    0.000    0.000    0.000 traitlets.py:1527(_notify_observers)\n",
      "        2    0.000    0.000    0.000    0.000 traitlets.py:3474(validate)\n",
      "        7    0.000    0.000    0.000    0.000 threading.py:1153(_wait_for_tstate_lock)\n",
      "        2    0.000    0.000    0.000    0.000 zmqstream.py:607(_handle_events)\n",
      "       12    0.000    0.000    0.000    0.000 enum.py:713(__call__)\n",
      "        6    0.000    0.000    0.000    0.000 enum.py:1541(__and__)\n",
      "        2    0.000    0.000    0.000    0.000 traitlets.py:3631(set)\n",
      "        4    0.000    0.000    0.000    0.000 _weakrefset.py:115(discard)\n",
      "        4    0.000    0.000    0.000    0.000 threading.py:1079(_stop)\n",
      "      9/2    0.000    0.000    0.000    0.000 {method 'acquire' of '_thread.lock' objects}\n",
      "        2    0.000    0.000    0.000    0.000 zmqstream.py:687(_rebuild_io_state)\n",
      "        4    0.000    0.000    0.000    0.000 context.py:294(_rm_socket)\n",
      "        2    0.000    0.000    0.000    0.000 traitlets.py:727(_cross_validate)\n",
      "        2    0.000    0.000    0.000    0.000 traitlets.py:3624(validate_elements)\n",
      "        2    0.000    0.000    0.000    0.000 traitlets.py:689(set)\n",
      "        7    0.000    0.000    0.000    0.000 {built-in method builtins.max}\n",
      "       12    0.000    0.000    0.000    0.000 enum.py:1116(__new__)\n",
      "        1    0.000    0.000    0.000    0.000 events.py:151(cancel)\n",
      "        1    0.000    0.000    0.000    0.000 traitlets.py:1512(_notify_trait)\n",
      "        4    0.000    0.000    0.000    0.000 selector_events.py:746(_process_events)\n",
      "        2    0.000    0.000    0.000    0.000 events.py:32(__init__)\n",
      "        4    0.000    0.000    0.000    0.000 <frozen importlib._bootstrap>:1390(_handle_fromlist)\n",
      "        9    0.000    0.000    0.000    0.000 {built-in method builtins.hasattr}\n",
      "        1    0.000    0.000    0.000    0.000 base_events.py:764(call_at)\n",
      "        1    0.000    0.000    0.000    0.000 base_events.py:740(call_later)\n",
      "        8    0.000    0.000    0.000    0.000 {built-in method builtins.getattr}\n",
      "        8    0.000    0.000    0.000    0.000 {method 'discard' of 'set' objects}\n",
      "        1    0.000    0.000    0.000    0.000 {function Random.seed at 0x00000237BA699580}\n",
      "        1    0.000    0.000    0.000    0.000 futures.py:311(_set_result_unless_cancelled)\n",
      "       12    0.000    0.000    0.000    0.000 {method 'keys' of 'dict' objects}\n",
      "        2    0.000    0.000    0.000    0.000 queue.py:97(empty)\n",
      "        1    0.000    0.000    0.000    0.000 base_events.py:445(create_future)\n",
      "        1    0.000    0.000    0.000    0.000 base_events.py:811(_call_soon)\n",
      "        2    0.000    0.000    0.000    0.000 traitlets.py:708(__set__)\n",
      "        2    0.000    0.000    0.000    0.000 traitlets.py:676(__get__)\n",
      "        1    0.000    0.000    0.000    0.000 {built-in method _thread.allocate_lock}\n",
      "        2    0.000    0.000    0.000    0.000 asyncio.py:200(_handle_events)\n",
      "       12    0.000    0.000    0.000    0.000 {built-in method builtins.len}\n",
      "        4    0.000    0.000    0.000    0.000 _weakrefset.py:39(_remove)\n",
      "        2    0.000    0.000    0.000    0.000 traitlets.py:2304(validate)\n",
      "        1    0.000    0.000    0.000    0.000 traitlets.py:1523(notify_change)\n",
      "        1    0.000    0.000    0.000    0.000 {method 'set_result' of '_asyncio.Future' objects}\n",
      "        8    0.000    0.000    0.000    0.000 {built-in method time.monotonic}\n",
      "        2    0.000    0.000    0.000    0.000 enum.py:1531(__or__)\n",
      "        4    0.000    0.000    0.000    0.000 socket.py:178(__del__)\n",
      "        1    0.000    0.000    0.000    0.000 history.py:839(_writeout_output_cache)\n",
      "        1    0.000    0.000    0.000    0.000 base_events.py:782(call_soon)\n",
      "        2    0.000    0.000    0.000    0.000 zmqstream.py:710(_update_handler)\n",
      "        6    0.000    0.000    0.000    0.000 {method 'values' of 'dict' objects}\n",
      "        5    0.000    0.000    0.000    0.000 {method 'append' of 'collections.deque' objects}\n",
      "        3    0.000    0.000    0.000    0.000 {built-in method builtins.min}\n",
      "        1    0.000    0.000    0.000    0.000 events.py:107(__init__)\n",
      "        1    0.000    0.000    0.000    0.000 threading.py:314(_is_owned)\n",
      "        5    0.000    0.000    0.000    0.000 {method '__exit__' of '_thread.lock' objects}\n",
      "        1    0.000    0.000    0.000    0.000 events.py:68(cancel)\n",
      "        2    0.000    0.000    0.000    0.000 traitlets.py:3486(validate_elements)\n",
      "       14    0.000    0.000    0.000    0.000 typing.py:2119(cast)\n",
      "        1    0.000    0.000    0.000    0.000 threading.py:299(__enter__)\n",
      "        1    0.000    0.000    0.000    0.000 threading.py:308(_release_save)\n",
      "        2    0.000    0.000    0.000    0.000 traitlets.py:629(get)\n",
      "        3    0.000    0.000    0.000    0.000 {method '__exit__' of '_thread.RLock' objects}\n",
      "        2    0.000    0.000    0.000    0.000 zmqstream.py:566(sending)\n",
      "        4    0.000    0.000    0.000    0.000 {method 'get' of 'dict' objects}\n",
      "        5    0.000    0.000    0.000    0.000 {method 'release' of '_thread.lock' objects}\n",
      "        4    0.000    0.000    0.000    0.000 threading.py:1234(daemon)\n",
      "        4    0.000    0.000    0.000    0.000 {method 'upper' of 'str' objects}\n",
      "        4    0.000    0.000    0.000    0.000 {method 'popleft' of 'collections.deque' objects}\n",
      "        2    0.000    0.000    0.000    0.000 base_events.py:1879(_add_callback)\n",
      "        7    0.000    0.000    0.000    0.000 threading.py:601(is_set)\n",
      "        2    0.000    0.000    0.000    0.000 selectors.py:275(_key_from_fd)\n",
      "        1    0.000    0.000    1.338    1.338 1576412352.py:1(remove_duplicate_edges)\n",
      "        4    0.000    0.000    0.000    0.000 {method 'locked' of '_thread.lock' objects}\n",
      "        2    0.000    0.000    0.000    0.000 queue.py:209(_qsize)\n",
      "        1    0.000    0.000    0.000    0.000 {built-in method _heapq.heappop}\n",
      "        1    0.000    0.000    0.000    0.000 {method '__enter__' of '_thread.lock' objects}\n",
      "        1    0.000    0.000    0.000    0.000 {built-in method _heapq.heappush}\n",
      "        2    0.000    0.000    0.000    0.000 {method 'extend' of 'list' objects}\n",
      "        1    0.000    0.000    0.000    0.000 {built-in method _asyncio.get_running_loop}\n",
      "        4    0.000    0.000    0.000    0.000 base_events.py:1989(get_debug)\n",
      "        1    0.000    0.000    0.000    0.000 {built-in method _contextvars.copy_context}\n",
      "        1    0.000    0.000    0.000    0.000 {method 'items' of 'dict' objects}\n",
      "        2    0.000    0.000    0.000    0.000 base_events.py:537(_check_closed)\n",
      "        1    0.000    0.000    0.000    0.000 base_events.py:1889(_timer_handle_cancelled)\n",
      "        2    0.000    0.000    0.000    0.000 zmqstream.py:562(receiving)\n",
      "        1    0.000    0.000    0.000    0.000 {method 'cancelled' of '_asyncio.Future' objects}\n",
      "\n",
      "\n"
     ]
    },
    {
     "data": {
      "text/plain": [
       "<pstats.Stats at 0x237bf7cb140>"
      ]
     },
     "execution_count": 4,
     "metadata": {},
     "output_type": "execute_result"
    }
   ],
   "source": [
    "@profile_time\n",
    "def remove_duplicate_edges(n_edges=2000):\n",
    "    edges = make_random_edges(n_edges, 200)\n",
    "    unique_edges = find_unique_edges(edges)\n",
    "    return unique_edges\n",
    "\n",
    "unique_edges = remove_duplicate_edges(2000)\n",
    "\n",
    "profile = _time_profiles[(remove_duplicate_edges, 2000)]\n",
    "\n",
    "stats = profile_stats(profile)\n",
    "stats.strip_dirs()\n",
    "stats.sort_stats('time')\n",
    "stats.print_stats()"
   ]
  },
  {
   "cell_type": "markdown",
   "metadata": {},
   "source": [
    "## Advanced profiling with visualization"
   ]
  },
  {
   "cell_type": "code",
   "execution_count": 5,
   "metadata": {},
   "outputs": [],
   "source": [
    "%reload_ext snakeviz"
   ]
  },
  {
   "cell_type": "code",
   "execution_count": 6,
   "metadata": {},
   "outputs": [],
   "source": [
    "def display_stats(profile):\n",
    "    with NamedTemporaryFile(delete=False, suffix='.prof') as temp_stats:\n",
    "        profile.dump_stats(temp_stats.name)\n",
    "        temp_stats.close()\n",
    "        subprocess.run(['snakeviz', temp_stats.name])"
   ]
  },
  {
   "cell_type": "markdown",
   "metadata": {},
   "source": [
    "### Profiling the first implementation\n",
    "\n",
    "It opens a window in a web browser.\n",
    "\n",
    "/!\\ Be careful, we couldn't stop this part or the second implementation, so you have to only run one at a time. And if you want to run the second part, comment this one /!\\"
   ]
  },
  {
   "cell_type": "code",
   "execution_count": 7,
   "metadata": {},
   "outputs": [
    {
     "data": {
      "text/plain": [
       "'@profile_time\\ndef remove_duplicate_edges(n_edges=2000):\\n    edges = make_random_edges(n_edges, 200)\\n    unique_edges = find_unique_edges(edges)\\n    return unique_edges\\n\\nunique_edges = remove_duplicate_edges(2000)\\n\\nprofile = _time_profiles[(remove_duplicate_edges, 2000)]\\ndisplay_stats(profile)'"
      ]
     },
     "execution_count": 7,
     "metadata": {},
     "output_type": "execute_result"
    }
   ],
   "source": [
    "\"\"\"@profile_time\n",
    "def remove_duplicate_edges(n_edges=2000):\n",
    "    edges = make_random_edges(n_edges, 200)\n",
    "    unique_edges = find_unique_edges(edges)\n",
    "    return unique_edges\n",
    "\n",
    "unique_edges = remove_duplicate_edges(2000)\n",
    "\n",
    "profile = _time_profiles[(remove_duplicate_edges, 2000)]\n",
    "display_stats(profile)\"\"\""
   ]
  },
  {
   "cell_type": "markdown",
   "metadata": {},
   "source": [
    "### Profiling the second implementation\n",
    "\n",
    "It opens a window in a web browser."
   ]
  },
  {
   "cell_type": "code",
   "execution_count": null,
   "metadata": {},
   "outputs": [],
   "source": [
    "def find_unique_edges_better(edges):\n",
    "    \"\"\"We use the property of python dictionaries that they can only have unique keys to remove duplicates.\n",
    "    Simply:\n",
    "    unique_edges = list(dict(list(edges)))\n",
    "    \"\"\"\n",
    "    #print(len(edges))\n",
    "    unique_edges = {}\n",
    "    unique_edges.update(edges)\n",
    "    unique_edges = list(unique_edges)\n",
    "    #print(len(unique_edges))\n",
    "    return unique_edges\n",
    "\n",
    "@profile_time\n",
    "def remove_duplicate_edges_better(n_edges=2000):\n",
    "    edges = make_random_edges(n_edges, 200)\n",
    "    unique_edges = find_unique_edges_better(edges)\n",
    "    return unique_edges\n",
    "\n",
    "unique_edges = remove_duplicate_edges_better(2000)\n",
    "\n",
    "profile = _time_profiles[(remove_duplicate_edges_better, 2000)]\n",
    "display_stats(profile)"
   ]
  }
 ],
 "metadata": {
  "kernelspec": {
   "display_name": "ot5",
   "language": "python",
   "name": "python3"
  },
  "language_info": {
   "codemirror_mode": {
    "name": "ipython",
    "version": 3
   },
   "file_extension": ".py",
   "mimetype": "text/x-python",
   "name": "python",
   "nbconvert_exporter": "python",
   "pygments_lexer": "ipython3",
   "version": "3.12.1"
  },
  "orig_nbformat": 4
 },
 "nbformat": 4,
 "nbformat_minor": 2
}
