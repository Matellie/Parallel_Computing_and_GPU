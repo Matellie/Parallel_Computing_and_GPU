{
 "cells": [
  {
   "cell_type": "markdown",
   "metadata": {},
   "source": [
    "# A simple bottleneck\n",
    "\n",
    "Very simple code that :\n",
    "- make_random_edges : generate a random graph given a number of edge and nodes\n",
    "- find_unique_edges : filter the list of edges to only keep an instance of each (i.e. remove duplicate edges)\n",
    "- contains : verify if an edge is part of a list"
   ]
  },
  {
   "cell_type": "code",
   "execution_count": 1,
   "metadata": {},
   "outputs": [],
   "source": [
    "import random\n",
    "\n",
    "def make_random_edges(n_edges=100, n_nodes=10):\n",
    "    random.seed(42)\n",
    "    edges = [[random.randint(0, n_nodes), random.randint(0, n_nodes)] for e in range(n_edges)]\n",
    "    return edges\n",
    "\n",
    "def find_unique_edges(edges):\n",
    "    edges = list(edges)\n",
    "    unique_edges = []\n",
    "    while edges:\n",
    "        edge = edges.pop()\n",
    "        if not contains(edges, edge):\n",
    "            unique_edges.append(edge)\n",
    "    return unique_edges\n",
    "\n",
    "def contains(edges, edge):\n",
    "    for e in edges:\n",
    "        if sorted(e) == sorted(edge):\n",
    "            return True\n",
    "    return False\n"
   ]
  },
  {
   "cell_type": "markdown",
   "metadata": {},
   "source": [
    "Some profiling functions to ease the process"
   ]
  },
  {
   "cell_type": "code",
   "execution_count": 2,
   "metadata": {},
   "outputs": [],
   "source": [
    "from functools import wraps\n",
    "from cProfile import Profile\n",
    "from tempfile import NamedTemporaryFile\n",
    "import pstats\n",
    "\n",
    "_time_profiles = {}\n",
    "\n",
    "def profile_time(func):\n",
    "    @wraps(func)\n",
    "    def wrapper(*args, **kwargs):\n",
    "        profile = Profile()\n",
    "        ret = profile.runcall(func, *args, **kwargs)\n",
    "        _time_profiles[(wrapper, ) + args] = profile\n",
    "        \n",
    "        return ret \n",
    "    return wrapper\n",
    "\n",
    "def profile_stats(profile):\n",
    "    temp_stats = NamedTemporaryFile(delete_on_close=False)\n",
    "    profile.dump_stats(temp_stats.name)\n",
    "    return pstats.Stats(temp_stats.name)"
   ]
  },
  {
   "cell_type": "markdown",
   "metadata": {},
   "source": [
    "Simple profiling with text outputs  "
   ]
  },
  {
   "cell_type": "code",
   "execution_count": 3,
   "metadata": {},
   "outputs": [
    {
     "name": "stdout",
     "output_type": "stream",
     "text": [
      "Wed Oct  2 14:04:18 2024    C:\\Users\\UTILIS~1\\AppData\\Local\\Temp\\tmpklm22zdd\n",
      "\n",
      "         3942727 function calls in 2.693 seconds\n",
      "\n",
      "   Ordered by: internal time\n",
      "\n",
      "   ncalls  tottime  percall  cumtime  percall filename:lineno(function)\n",
      "  3903622    1.643    0.000    1.643    0.000 {built-in method builtins.sorted}\n",
      "     2000    1.022    0.001    2.662    0.001 2053488929.py:17(contains)\n",
      "     4000    0.006    0.000    0.016    0.000 random.py:291(randrange)\n",
      "     4000    0.005    0.000    0.008    0.000 random.py:242(_randbelow_with_getrandbits)\n",
      "        1    0.003    0.003    2.646    2.646 2053488929.py:8(find_unique_edges)\n",
      "        1    0.003    0.003    0.022    0.022 2053488929.py:3(make_random_edges)\n",
      "     4000    0.003    0.000    0.019    0.000 random.py:332(randint)\n",
      "    12000    0.002    0.000    0.002    0.000 {built-in method _operator.index}\n",
      "     4000    0.001    0.000    0.001    0.000 {method 'bit_length' of 'int' objects}\n",
      "     5051    0.001    0.000    0.001    0.000 {method 'getrandbits' of '_random.Random' objects}\n",
      "        2    0.001    0.001    0.003    0.001 {method '__exit__' of 'sqlite3.Connection' objects}\n",
      "     1919    0.001    0.000    0.001    0.000 {method 'append' of 'list' objects}\n",
      "     2000    0.001    0.000    0.001    0.000 {method 'pop' of 'list' objects}\n",
      "        1    0.000    0.000    0.000    0.000 {method 'disable' of '_lsprof.Profiler' objects}\n",
      "        6    0.000    0.000    0.000    0.000 ipkernel.py:775(_clean_thread_parent_frames)\n",
      "        3    0.000    0.000    0.000    0.000 threading.py:1534(enumerate)\n",
      "       18    0.000    0.000    0.000    0.000 threading.py:1196(ident)\n",
      "        2    0.000    0.000    0.000    0.000 traitlets.py:718(_validate)\n",
      "        1    0.000    0.000    0.000    0.000 random.py:135(seed)\n",
      "        2    0.000    0.000    0.000    0.000 traitlets.py:3631(set)\n",
      "        2    0.000    0.000    0.000    0.000 traitlets.py:3624(validate_elements)\n",
      "        1    0.000    0.000    0.000    0.000 traitlets.py:1527(_notify_observers)\n",
      "        2    0.000    0.000    0.000    0.000 traitlets.py:3474(validate)\n",
      "        2    0.000    0.000    0.000    0.000 traitlets.py:689(set)\n",
      "        2    0.000    0.000    0.000    0.000 traitlets.py:727(_cross_validate)\n",
      "        1    0.000    0.000    2.646    2.646 1576412352.py:1(remove_duplicate_edges)\n",
      "        1    0.000    0.000    0.000    0.000 {built-in method _thread.allocate_lock}\n",
      "       15    0.000    0.000    0.000    0.000 {built-in method builtins.isinstance}\n",
      "        2    0.000    0.000    0.000    0.000 traitlets.py:676(__get__)\n",
      "        1    0.000    0.000    0.000    0.000 {function Random.seed at 0x00000205992C5580}\n",
      "        1    0.000    0.000    0.000    0.000 traitlets.py:1512(_notify_trait)\n",
      "        2    0.000    0.000    0.000    0.000 traitlets.py:708(__set__)\n",
      "        2    0.000    0.000    0.000    0.000 traitlets.py:2304(validate)\n",
      "       12    0.000    0.000    0.000    0.000 {method 'keys' of 'dict' objects}\n",
      "        5    0.000    0.000    0.000    0.000 {built-in method builtins.hasattr}\n",
      "        1    0.000    0.000    0.000    0.000 traitlets.py:1523(notify_change)\n",
      "        1    0.000    0.000    0.000    0.000 history.py:839(_writeout_output_cache)\n",
      "        6    0.000    0.000    0.000    0.000 {method 'values' of 'dict' objects}\n",
      "        3    0.000    0.000    0.000    0.000 {method '__exit__' of '_thread.RLock' objects}\n",
      "        2    0.000    0.000    0.000    0.000 traitlets.py:629(get)\n",
      "        1    0.000    0.000    0.000    0.000 threading.py:314(_is_owned)\n",
      "        4    0.000    0.000    0.000    0.000 {method 'get' of 'dict' objects}\n",
      "        1    0.000    0.000    0.000    0.000 threading.py:308(_release_save)\n",
      "        1    0.000    0.000    0.000    0.000 threading.py:299(__enter__)\n",
      "        2    0.000    0.000    0.000    0.000 traitlets.py:3486(validate_elements)\n",
      "       14    0.000    0.000    0.000    0.000 typing.py:2119(cast)\n",
      "        2    0.000    0.000    0.000    0.000 {method 'acquire' of '_thread.lock' objects}\n",
      "        2    0.000    0.000    0.000    0.000 {method '__exit__' of '_thread.lock' objects}\n",
      "        2    0.000    0.000    0.000    0.000 {built-in method builtins.len}\n",
      "        1    0.000    0.000    0.000    0.000 {method 'append' of 'collections.deque' objects}\n",
      "        1    0.000    0.000    0.000    0.000 {method '__enter__' of '_thread.lock' objects}\n",
      "        2    0.000    0.000    0.000    0.000 {method 'extend' of 'list' objects}\n",
      "        1    0.000    0.000    0.000    0.000 {method 'release' of '_thread.lock' objects}\n",
      "\n",
      "\n"
     ]
    },
    {
     "data": {
      "text/plain": [
       "<pstats.Stats at 0x2059e106b10>"
      ]
     },
     "execution_count": 3,
     "metadata": {},
     "output_type": "execute_result"
    }
   ],
   "source": [
    "@profile_time\n",
    "def remove_duplicate_edges(n_edges=2000):\n",
    "    edges = make_random_edges(n_edges, 200)\n",
    "    unique_edges = find_unique_edges(edges)\n",
    "    return unique_edges\n",
    "\n",
    "unique_edges = remove_duplicate_edges(2000)\n",
    "\n",
    "profile = _time_profiles[(remove_duplicate_edges, 2000)]\n",
    "\n",
    "stats = profile_stats(profile)\n",
    "stats.strip_dirs()\n",
    "stats.sort_stats('time')\n",
    "stats.print_stats()"
   ]
  },
  {
   "cell_type": "markdown",
   "metadata": {},
   "source": [
    "Advance profiling with visualization"
   ]
  },
  {
   "cell_type": "code",
   "execution_count": 4,
   "metadata": {},
   "outputs": [],
   "source": [
    "%reload_ext snakeviz"
   ]
  },
  {
   "cell_type": "code",
   "execution_count": 5,
   "metadata": {},
   "outputs": [],
   "source": [
    "import subprocess\n",
    "\n",
    "def display_stats(profile):\n",
    "    with NamedTemporaryFile(delete=False, suffix='.prof') as temp_stats:\n",
    "        profile.dump_stats(temp_stats.name)\n",
    "        temp_stats.close()\n",
    "        subprocess.run(['snakeviz', temp_stats.name])"
   ]
  },
  {
   "cell_type": "code",
   "execution_count": 6,
   "metadata": {},
   "outputs": [
    {
     "data": {
      "text/plain": [
       "'@profile_time\\ndef remove_duplicate_edges(n_edges=2000):\\n    edges = make_random_edges(n_edges, 200)\\n    unique_edges = find_unique_edges(edges)\\n    return unique_edges\\n\\nunique_edges = remove_duplicate_edges(2000)\\n\\nprofile = _time_profiles[(remove_duplicate_edges, 2000)]\\ndisplay_stats(profile)'"
      ]
     },
     "execution_count": 6,
     "metadata": {},
     "output_type": "execute_result"
    }
   ],
   "source": [
    "\"\"\"@profile_time\n",
    "def remove_duplicate_edges(n_edges=2000):\n",
    "    edges = make_random_edges(n_edges, 200)\n",
    "    unique_edges = find_unique_edges(edges)\n",
    "    return unique_edges\n",
    "\n",
    "unique_edges = remove_duplicate_edges(2000)\n",
    "\n",
    "profile = _time_profiles[(remove_duplicate_edges, 2000)]\n",
    "display_stats(profile)\"\"\""
   ]
  },
  {
   "cell_type": "markdown",
   "metadata": {},
   "source": [
    "Propose a new implementation and profile it"
   ]
  },
  {
   "cell_type": "code",
   "execution_count": 7,
   "metadata": {},
   "outputs": [
    {
     "name": "stdout",
     "output_type": "stream",
     "text": [
      "2000\n",
      "201\n"
     ]
    }
   ],
   "source": [
    "def find_unique_edges_better(edges):\n",
    "    print(len(edges))\n",
    "    unique_edges = {}\n",
    "    unique_edges.update(list(edges))\n",
    "    unique_edges = list(unique_edges)\n",
    "    print(len(unique_edges))\n",
    "    return unique_edges\n",
    "\n",
    "@profile_time\n",
    "def remove_duplicate_edges_better(n_edges=2000):\n",
    "    edges = make_random_edges(n_edges, 200)\n",
    "    unique_edges = find_unique_edges_better(edges)\n",
    "    return unique_edges\n",
    "\n",
    "unique_edges = remove_duplicate_edges_better(2000)\n",
    "\n",
    "profile = _time_profiles[(remove_duplicate_edges_better, 2000)]\n",
    "display_stats(profile)"
   ]
  }
 ],
 "metadata": {
  "kernelspec": {
   "display_name": "ot5",
   "language": "python",
   "name": "python3"
  },
  "language_info": {
   "codemirror_mode": {
    "name": "ipython",
    "version": 3
   },
   "file_extension": ".py",
   "mimetype": "text/x-python",
   "name": "python",
   "nbconvert_exporter": "python",
   "pygments_lexer": "ipython3",
   "version": "3.12.1"
  },
  "orig_nbformat": 4
 },
 "nbformat": 4,
 "nbformat_minor": 2
}
